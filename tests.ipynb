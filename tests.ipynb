{
 "cells": [
  {
   "cell_type": "code",
   "execution_count": 1,
   "metadata": {
    "collapsed": false
   },
   "outputs": [
    {
     "name": "stderr",
     "output_type": "stream",
     "text": [
      "\u001b[1m\u001b[36mINFO: \u001b[39m\u001b[22m\u001b[36mRecompiling stale cache file /Users/patrick/.julia/lib/v0.6/GeodesicIntegration.ji for module GeodesicIntegration.\n",
      "\u001b[39m"
     ]
    }
   ],
   "source": [
    "using BenchmarkTools\n",
    "using GeodesicIntegration"
   ]
  },
  {
   "cell_type": "code",
   "execution_count": 10,
   "metadata": {
    "collapsed": false
   },
   "outputs": [],
   "source": [
    "# Init\n",
    "M = 3.0\n",
    "a = 1.0\n",
    "q = 1.0\n",
    "\n",
    "metric = KerrNewmanMetric(M, a, q);"
   ]
  },
  {
   "cell_type": "markdown",
   "metadata": {},
   "source": [
    "Actual computation"
   ]
  },
  {
   "cell_type": "code",
   "execution_count": 11,
   "metadata": {
    "collapsed": false
   },
   "outputs": [],
   "source": [
    "problem = DirectGeodesicProblem(metric)\n",
    "init_x  = [0.0, 6.0M, π/2, π/4]; # Initial x^μ for all test particles\n",
    "\n",
    "init_u3_1 = [-1.0, 0.003, 0.08];\n",
    "init_u3_2 = [-1.0, 0.003, 0.075];\n",
    "init_u3_3 = [-1.0, 0.003, 0.09];\n",
    "init_u3_4 = [-1.0, 0.003, 0.085];\n",
    "init_u3_γ = [-1.0, 0.003, 0.0693];\n",
    "\n",
    "tspan  = (0.0, 60.0)\n",
    "diffeq1 = scaffold(problem, init_x, init_u3_1, tspan)\n",
    "diffeq2 = scaffold(problem, init_x, init_u3_2, tspan)\n",
    "diffeq3 = scaffold(problem, init_x, init_u3_3, tspan)\n",
    "diffeq4 = scaffold(problem, init_x, init_u3_4, tspan)\n",
    "diffeqγ = scaffold(problem, init_x, init_u3_γ, tspan, timelike=false)\n",
    "\n",
    "sol1 = solve(diffeq1, reltol=1e-6);\n",
    "sol2 = solve(diffeq2, reltol=1e-6);\n",
    "sol3 = solve(diffeq3, reltol=1e-6);\n",
    "sol4 = solve(diffeq4, reltol=1e-6);\n",
    "solγ = solve(diffeqγ, reltol=1e-8);"
   ]
  },
  {
   "cell_type": "markdown",
   "metadata": {},
   "source": [
    "Helper function that converts DifferentialEquations.jl output to a matrix"
   ]
  },
  {
   "cell_type": "code",
   "execution_count": 12,
   "metadata": {
    "collapsed": false
   },
   "outputs": [
    {
     "data": {
      "text/plain": [
       "toarr (generic function with 1 method)"
      ]
     },
     "execution_count": 12,
     "metadata": {},
     "output_type": "execute_result"
    }
   ],
   "source": [
    "function toarr(sol, dim)\n",
    "    l   = length(sol)\n",
    "    res = zeros(l * dim)\n",
    "    \n",
    "    for i in 1:l\n",
    "        for j in 1:dim\n",
    "            # Column major storage\n",
    "            res[(j - 1)*l + i] = sol[i][j]\n",
    "        end\n",
    "    end\n",
    "    \n",
    "    return reshape(res, (l, dim))\n",
    "end"
   ]
  },
  {
   "cell_type": "code",
   "execution_count": 13,
   "metadata": {
    "collapsed": false
   },
   "outputs": [
    {
     "data": {
      "text/plain": [
       "28×8 Array{Float64,2}:\n",
       "   0.0        12.7279     12.7279     1.10218e-15  …  -0.000207733  -0.999996\n",
       "   0.158383   12.61       12.7408    -0.00400316      -0.000210496  -0.996611\n",
       "   1.42164    11.6712     12.8371    -0.0356645       -0.000233184  -0.968707\n",
       "   4.04499     9.72947    12.9947    -0.09977         -0.000282658  -0.905575\n",
       "   7.21641     7.39439    13.0904    -0.173839        -0.000340255  -0.820074\n",
       "  10.6719      4.86639    13.0412    -0.249298     …  -0.000384867  -0.716452\n",
       "  14.4765      2.11422    12.7474    -0.32435         -0.000387926  -0.592156\n",
       "  18.5573     -0.765387   12.0836    -0.392862        -0.000319051  -0.450906\n",
       "  22.986      -3.72681    10.8845    -0.449521        -0.000179303  -0.293162\n",
       "  27.8532     -6.64639     8.95281   -0.486232        -3.58026e-5   -0.118576\n",
       "  32.5927     -8.99802     6.4904    -0.493264     …  -5.93436e-6    0.051259\n",
       "  37.2429    -10.7179      3.624     -0.472045        -0.000104567   0.218018\n",
       "  41.851     -11.8024      0.486461  -0.425394        -0.000257516   0.382986\n",
       "   ⋮                                               ⋱                         \n",
       "  59.8664    -11.3184    -12.5441    -0.0744715       -0.000252087   0.944613\n",
       "  64.4135    -10.5012    -15.8485     0.0385621       -0.000173504   1.04231 \n",
       "  69.3736     -9.46992   -19.4824     0.168039        -0.000109265   1.12636 \n",
       "  74.921      -8.20346   -23.6063     0.318934        -6.35553e-5    1.19685 \n",
       "  80.1928     -6.92584   -27.596      0.467216     …  -3.81172e-5    1.24603 \n",
       "  85.9174     -5.48145   -32.0093     0.632703        -2.23576e-5    1.28509 \n",
       "  91.8973     -3.92602   -36.7047     0.80972         -1.32356e-5    1.3146  \n",
       "  98.4052     -2.19226   -41.904      1.00637         -7.79813e-6    1.33771 \n",
       " 105.458      -0.276011  -47.6297     1.22336         -4.60927e-6    1.35561 \n",
       " 113.23        1.87147   -54.0336     1.46636      …  -2.72053e-6    1.36963 \n",
       " 121.831       4.28184   -61.214      1.73903         -1.60576e-6    1.3806  \n",
       " 124.698       5.09206   -63.6267     1.83069         -1.36274e-6    1.38349 "
      ]
     },
     "execution_count": 13,
     "metadata": {},
     "output_type": "execute_result"
    }
   ],
   "source": [
    "matsol1 = sphericaltocartesian(toarr(sol1, 8))\n",
    "matsol2 = sphericaltocartesian(toarr(sol2, 8))\n",
    "matsol3 = sphericaltocartesian(toarr(sol3, 8))\n",
    "matsol4 = sphericaltocartesian(toarr(sol4, 8))\n",
    "matsolγ = sphericaltocartesian(toarr(solγ, 8))"
   ]
  },
  {
   "cell_type": "code",
   "execution_count": 14,
   "metadata": {
    "collapsed": false
   },
   "outputs": [],
   "source": [
    "using Plots; pyplot();"
   ]
  },
  {
   "cell_type": "code",
   "execution_count": 15,
   "metadata": {
    "collapsed": false
   },
   "outputs": [
    {
     "data": {
      "image/png": "[encoded data removed]"
     },
     "execution_count": 15,
     "metadata": {},
     "output_type": "execute_result"
    }
   ],
   "source": [
    "plt = plot(matsol1[:, 2], matsol1[:, 3], aspect_ratio=1, ls=:dot, lc=:cyan, label=\"\")\n",
    "plot!(matsol2[:, 2], matsol2[:, 3], ls=:dot, lc=:red, label=\"Infalling mass\")\n",
    "plot!(matsol3[:, 2], matsol3[:, 3], ls=:dot, lc=:cyan, label=\"\")\n",
    "plot!(matsol4[:, 2], matsol4[:, 3], ls=:dot, lc=:cyan, label=\"\")\n",
    "plot!(matsolγ[:, 2], matsolγ[:, 3], lc=:black, label=\"Light\")\n",
    "\n",
    "r = 2.0*M\n",
    "ϕ = linspace(0, 2π, 100)\n",
    "plot!(r*cos.(ϕ), r*sin.(ϕ), color=:red, label=\"\", xlims=(-40, 40), ylims=(-40, 40))\n",
    "xlabel!(\"x (\\$M\\$)\")\n",
    "ylabel!(\"y (\\$M\\$)\")\n",
    "# png(\"infall\"); plt"
   ]
  }
 ],
 "metadata": {
  "kernelspec": {
   "display_name": "Julia 0.6.2",
   "language": "julia",
   "name": "julia-0.6"
  },
  "language_info": {
   "file_extension": ".jl",
   "mimetype": "application/julia",
   "name": "julia",
   "version": "0.6.2"
  }
 },
 "nbformat": 4,
 "nbformat_minor": 2
}
